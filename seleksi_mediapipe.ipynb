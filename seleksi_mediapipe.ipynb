{
 "cells": [
  {
   "cell_type": "code",
   "execution_count": null,
   "id": "3d5a342c-7331-4001-8ced-b5241392cc81",
   "metadata": {},
   "outputs": [],
   "source": [
    "import os\n",
    "import cv2\n",
    "import glob\n",
    "import shutil\n",
    "import mediapipe as mp\n",
    "\n",
    "# Konfigurasi folder\n",
    "source_dir = \"rafdb_128\"\n",
    "target_dir = \"rafdb_faces\"\n",
    "\n",
    "# Inisialisasi MediaPipe FaceMesh\n",
    "mp_face_mesh = mp.solutions.face_mesh\n",
    "face_mesh = mp_face_mesh.FaceMesh(static_image_mode=True, max_num_faces=1, refine_landmarks=True)\n",
    "\n",
    "# Format file yang didukung\n",
    "valid_exts = (\".png\", \".jpg\", \".jpeg\", \".bmp\")\n",
    "\n",
    "# Ambil semua file gambar dari subfolder\n",
    "image_paths = glob.glob(os.path.join(source_dir, \"*\", \"*.*\"))\n",
    "\n",
    "for img_path in image_paths:\n",
    "    if not img_path.lower().endswith(valid_exts):\n",
    "        continue\n",
    "\n",
    "    try:\n",
    "        # Ambil label dan nama file\n",
    "        parts = img_path.split(os.sep)\n",
    "        emotion_label = parts[-2]\n",
    "        filename = parts[-1]\n",
    "\n",
    "        # Baca dan konversi gambar ke RGB\n",
    "        img_bgr = cv2.imread(img_path)\n",
    "        if img_bgr is None:\n",
    "            print(f\"⚠️ Tidak bisa dibaca: {img_path}\")\n",
    "            continue\n",
    "        img_rgb = cv2.cvtColor(img_bgr, cv2.COLOR_BGR2RGB)\n",
    "\n",
    "        # Deteksi landmark wajah\n",
    "        result = face_mesh.process(img_rgb)\n",
    "\n",
    "        if result.multi_face_landmarks:\n",
    "            # Buat folder target\n",
    "            target_folder = os.path.join(target_dir, emotion_label)\n",
    "            os.makedirs(target_folder, exist_ok=True)\n",
    "\n",
    "            # Salin file ke folder baru\n",
    "            target_path = os.path.join(target_folder, filename)\n",
    "            shutil.copy2(img_path, target_path)\n",
    "            print(f\"✔️ Wajah terdeteksi, disalin: {target_path}\")\n",
    "        else:\n",
    "            print(f\"❌ Tidak ada wajah: {img_path}\")\n",
    "\n",
    "    except Exception as e:\n",
    "        print(f\"❌ Error proses {img_path} - {e}\")\n"
   ]
  }
 ],
 "metadata": {
  "kernelspec": {
   "display_name": "Python 3 (ipykernel)",
   "language": "python",
   "name": "python3"
  },
  "language_info": {
   "codemirror_mode": {
    "name": "ipython",
    "version": 3
   },
   "file_extension": ".py",
   "mimetype": "text/x-python",
   "name": "python",
   "nbconvert_exporter": "python",
   "pygments_lexer": "ipython3",
   "version": "3.11.7"
  }
 },
 "nbformat": 4,
 "nbformat_minor": 5
}
